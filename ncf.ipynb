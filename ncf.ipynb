{
 "cells": [
  {
   "cell_type": "code",
   "execution_count": 1,
   "metadata": {},
   "outputs": [],
   "source": [
    "%load_ext autoreload\n",
    "%autoreload 2"
   ]
  },
  {
   "cell_type": "code",
   "execution_count": 2,
   "metadata": {},
   "outputs": [],
   "source": [
    "import csv\n",
    "import hashlib\n",
    "import logging\n",
    "import pandas as pd\n",
    "import zipfile\n",
    "from pathlib import Path\n",
    "\n",
    "import torch\n",
    "import numpy as np\n",
    "import pytorch_lightning as pl\n",
    "\n",
    "from movie_lens_25m import MovieLens25MDataModule"
   ]
  },
  {
   "cell_type": "code",
   "execution_count": 3,
   "metadata": {},
   "outputs": [],
   "source": [
    "logger = logging.getLogger()\n",
    "logger.setLevel(logging.INFO)"
   ]
  },
  {
   "cell_type": "code",
   "execution_count": 4,
   "metadata": {},
   "outputs": [],
   "source": [
    "class MF(pl.LightningModule):\n",
    "    def __init__(self, n_users: int, n_movies: int, factors: int = 40, learning_rate: float = 0.001):\n",
    "        super().__init__()\n",
    "        \n",
    "        self.learning_rate = learning_rate\n",
    "        \n",
    "        self.user_embed = torch.nn.Embedding(num_embeddings=n_users, embedding_dim=factors)\n",
    "        self.movie_embed = torch.nn.Embedding(num_embeddings=n_movies, embedding_dim=factors)\n",
    "        \n",
    "    def forward(self, x):\n",
    "        return (self.user_embed(x[:, 0]) * self.movie_embed(x[:, 1])).sum(dim=1)\n",
    "    \n",
    "    def training_step(self, batch, batch_idx):\n",
    "        x, y = batch\n",
    "        y_hat = self(x)\n",
    "        loss = torch.nn.functional.mse_loss(y_hat, y)\n",
    "        return loss\n",
    "    \n",
    "    def validation_step(self, batch, batch_idx):\n",
    "        return self.training_step(batch, batch_idx)\n",
    "    \n",
    "    def validation_epoch_end(self, validation_step_outputs):\n",
    "        loss = 0\n",
    "        for pred in validation_step_outputs:\n",
    "            loss += pred\n",
    "        self.log(\"val_loss\", loss, on_epoch=True, prog_bar=True)\n",
    "    \n",
    "    def configure_optimizers(self):\n",
    "        return torch.optim.SGD(self.parameters(), lr=self.learning_rate)"
   ]
  },
  {
   "cell_type": "code",
   "execution_count": 5,
   "metadata": {},
   "outputs": [
    {
     "name": "stderr",
     "output_type": "stream",
     "text": [
      "INFO:root:ml-25m exists, skipping download\n"
     ]
    }
   ],
   "source": [
    "data = MovieLens25MDataModule(batch_size=1024)\n",
    "data.prepare_data()\n",
    "data.setup(head=int(1e6))"
   ]
  },
  {
   "cell_type": "code",
   "execution_count": 6,
   "metadata": {},
   "outputs": [],
   "source": [
    "mf = MF(\n",
    "    n_users=data.train.max_user_idx + 1, \n",
    "    n_movies=data.train.max_movie_idx + 1\n",
    ")"
   ]
  },
  {
   "cell_type": "code",
   "execution_count": 7,
   "metadata": {},
   "outputs": [
    {
     "name": "stderr",
     "output_type": "stream",
     "text": [
      "GPU available: True, used: True\n",
      "INFO:lightning:GPU available: True, used: True\n",
      "TPU available: None, using: 0 TPU cores\n",
      "INFO:lightning:TPU available: None, using: 0 TPU cores\n",
      "LOCAL_RANK: 0 - CUDA_VISIBLE_DEVICES: [0]\n",
      "INFO:lightning:LOCAL_RANK: 0 - CUDA_VISIBLE_DEVICES: [0]\n"
     ]
    }
   ],
   "source": [
    "trainer = pl.Trainer(\n",
    "    gpus=1,\n",
    "    auto_lr_find=True\n",
    ")"
   ]
  },
  {
   "cell_type": "code",
   "execution_count": 8,
   "metadata": {},
   "outputs": [],
   "source": [
    "#trainer.tune(mf, data)"
   ]
  },
  {
   "cell_type": "code",
   "execution_count": 9,
   "metadata": {},
   "outputs": [
    {
     "name": "stderr",
     "output_type": "stream",
     "text": [
      "\n",
      "  | Name        | Type      | Params\n",
      "------------------------------------------\n",
      "0 | user_embed  | Embedding | 269 K \n",
      "1 | movie_embed | Embedding | 8.4 M \n",
      "------------------------------------------\n",
      "8.6 M     Trainable params\n",
      "0         Non-trainable params\n",
      "8.6 M     Total params\n",
      "INFO:lightning:\n",
      "  | Name        | Type      | Params\n",
      "------------------------------------------\n",
      "0 | user_embed  | Embedding | 269 K \n",
      "1 | movie_embed | Embedding | 8.4 M \n",
      "------------------------------------------\n",
      "8.6 M     Trainable params\n",
      "0         Non-trainable params\n",
      "8.6 M     Total params\n",
      "Finding best initial lr:  96%|█████████▋| 965/1000 [00:12<00:00, 75.90it/s]\n",
      "LR finder stopped early due to diverging loss.\n",
      "INFO:lightning:LR finder stopped early due to diverging loss.\n",
      "<ipython-input-9-85932746b1cc>:9: UserWarning: Matplotlib is currently using module://ipykernel.pylab.backend_inline, which is a non-GUI backend, so cannot show the figure.\n",
      "  fig.show()\n"
     ]
    },
    {
     "data": {
      "image/png": "[encoded data removed]",
      "text/plain": [
       "<Figure size 432x288 with 1 Axes>"
      ]
     },
     "metadata": {
      "needs_background": "light"
     },
     "output_type": "display_data"
    }
   ],
   "source": [
    "# Run learning rate finder\n",
    "lr_finder = trainer.tuner.lr_find(mf, data, num_training=1000, max_lr=30, mode=\"linear\")\n",
    "\n",
    "# Results can be found in\n",
    "lr_finder.results\n",
    "\n",
    "# Plot with\n",
    "fig = lr_finder.plot(suggest=True)\n",
    "fig.show()"
   ]
  },
  {
   "cell_type": "code",
   "execution_count": 10,
   "metadata": {},
   "outputs": [],
   "source": [
    "mf.learning_rate = 5"
   ]
  },
  {
   "cell_type": "code",
   "execution_count": null,
   "metadata": {},
   "outputs": [
    {
     "name": "stderr",
     "output_type": "stream",
     "text": [
      "\n",
      "  | Name        | Type      | Params\n",
      "------------------------------------------\n",
      "0 | user_embed  | Embedding | 269 K \n",
      "1 | movie_embed | Embedding | 8.4 M \n",
      "------------------------------------------\n",
      "8.6 M     Trainable params\n",
      "0         Non-trainable params\n",
      "8.6 M     Total params\n",
      "INFO:lightning:\n",
      "  | Name        | Type      | Params\n",
      "------------------------------------------\n",
      "0 | user_embed  | Embedding | 269 K \n",
      "1 | movie_embed | Embedding | 8.4 M \n",
      "------------------------------------------\n",
      "8.6 M     Trainable params\n",
      "0         Non-trainable params\n",
      "8.6 M     Total params\n"
     ]
    },
    {
     "name": "stdout",
     "output_type": "stream",
     "text": [
      "Epoch 1:  99%|█████████▉| 964/971 [00:12<00:00, 74.21it/s, loss=3.87, v_num=22, val_loss=108]\n",
      "Validating: 0it [00:00, ?it/s]\u001b[A\n",
      "Epoch 1: 100%|██████████| 971/971 [00:13<00:00, 72.84it/s, loss=3.87, v_num=22, val_loss=63] \n",
      "Epoch 2:  99%|█████████▉| 964/971 [00:13<00:00, 70.68it/s, loss=1.67, v_num=22, val_loss=63]\n",
      "Validating: 0it [00:00, ?it/s]\u001b[A\n",
      "Epoch 2: 100%|██████████| 971/971 [00:13<00:00, 69.38it/s, loss=1.67, v_num=22, val_loss=45.7]\n",
      "Epoch 3:  99%|█████████▉| 964/971 [00:13<00:00, 70.83it/s, loss=1.22, v_num=22, val_loss=45.7]\n",
      "Validating: 0it [00:00, ?it/s]\u001b[A\n",
      "Epoch 3: 100%|██████████| 971/971 [00:13<00:00, 69.45it/s, loss=1.22, v_num=22, val_loss=40.3]\n",
      "Epoch 4:  99%|█████████▉| 964/971 [00:14<00:00, 67.98it/s, loss=1.03, v_num=22, val_loss=40.3]\n",
      "Validating: 0it [00:00, ?it/s]\u001b[A\n",
      "Epoch 4: 100%|██████████| 971/971 [00:14<00:00, 66.71it/s, loss=1.03, v_num=22, val_loss=37.6]\n",
      "Epoch 5:  99%|█████████▉| 964/971 [00:15<00:00, 64.19it/s, loss=0.929, v_num=22, val_loss=37.6]\n",
      "Validating: 0it [00:00, ?it/s]\u001b[A\n",
      "Epoch 5: 100%|██████████| 971/971 [00:15<00:00, 63.06it/s, loss=0.929, v_num=22, val_loss=36]  \n",
      "Epoch 6:  88%|████████▊ | 851/971 [00:12<00:01, 66.67it/s, loss=0.917, v_num=22, val_loss=36]"
     ]
    }
   ],
   "source": [
    "trainer.fit(mf, datamodule=data)"
   ]
  },
  {
   "cell_type": "code",
   "execution_count": null,
   "metadata": {},
   "outputs": [],
   "source": []
  }
 ],
 "metadata": {
  "kernelspec": {
   "display_name": "Python 3",
   "language": "python",
   "name": "python3"
  },
  "language_info": {
   "codemirror_mode": {
    "name": "ipython",
    "version": 3
   },
   "file_extension": ".py",
   "mimetype": "text/x-python",
   "name": "python",
   "nbconvert_exporter": "python",
   "pygments_lexer": "ipython3",
   "version": "3.8.5"
  }
 },
 "nbformat": 4,
 "nbformat_minor": 4
}
